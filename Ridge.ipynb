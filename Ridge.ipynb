{
 "cells": [
  {
   "cell_type": "markdown",
   "metadata": {},
   "source": [
    "## Ridge Regression <br>\n",
    "### Predicting Closing price\n",
    "\n",
    "Niranjan Kumar - 20BAI1010"
   ]
  },
  {
   "cell_type": "code",
   "execution_count": 1,
   "metadata": {},
   "outputs": [],
   "source": [
    "import pandas as pd\n",
    "import matplotlib.pyplot as plt\n",
    "import seaborn as sns"
   ]
  },
  {
   "cell_type": "markdown",
   "metadata": {},
   "source": [
    "We imported the necessary libraries to run this code, now we import the csv dataset,"
   ]
  },
  {
   "cell_type": "code",
   "execution_count": 2,
   "metadata": {},
   "outputs": [
    {
     "data": {
      "text/html": [
       "<div>\n",
       "<style scoped>\n",
       "    .dataframe tbody tr th:only-of-type {\n",
       "        vertical-align: middle;\n",
       "    }\n",
       "\n",
       "    .dataframe tbody tr th {\n",
       "        vertical-align: top;\n",
       "    }\n",
       "\n",
       "    .dataframe thead th {\n",
       "        text-align: right;\n",
       "    }\n",
       "</style>\n",
       "<table border=\"1\" class=\"dataframe\">\n",
       "  <thead>\n",
       "    <tr style=\"text-align: right;\">\n",
       "      <th></th>\n",
       "      <th>Date</th>\n",
       "      <th>Open Price</th>\n",
       "      <th>High Price</th>\n",
       "      <th>Low Price</th>\n",
       "      <th>Close Price</th>\n",
       "      <th>WAP</th>\n",
       "      <th>No.of Shares</th>\n",
       "      <th>No. of Trades</th>\n",
       "      <th>Total Turnover (Rs.)</th>\n",
       "      <th>Deliverable Quantity</th>\n",
       "      <th>% Deli. Qty to Traded Qty</th>\n",
       "      <th>Spread High-Low</th>\n",
       "      <th>Spread Close-Open</th>\n",
       "    </tr>\n",
       "  </thead>\n",
       "  <tbody>\n",
       "    <tr>\n",
       "      <th>0</th>\n",
       "      <td>25-January-2022</td>\n",
       "      <td>491.35</td>\n",
       "      <td>517.55</td>\n",
       "      <td>489.45</td>\n",
       "      <td>514.85</td>\n",
       "      <td>506.664435</td>\n",
       "      <td>921453</td>\n",
       "      <td>18415</td>\n",
       "      <td>466867464.0</td>\n",
       "      <td>181143.0</td>\n",
       "      <td>19.66</td>\n",
       "      <td>28.10</td>\n",
       "      <td>23.50</td>\n",
       "    </tr>\n",
       "    <tr>\n",
       "      <th>1</th>\n",
       "      <td>24-January-2022</td>\n",
       "      <td>502.10</td>\n",
       "      <td>506.65</td>\n",
       "      <td>488.05</td>\n",
       "      <td>494.10</td>\n",
       "      <td>497.524783</td>\n",
       "      <td>1283253</td>\n",
       "      <td>30605</td>\n",
       "      <td>638450170.0</td>\n",
       "      <td>457865.0</td>\n",
       "      <td>35.68</td>\n",
       "      <td>18.60</td>\n",
       "      <td>-8.00</td>\n",
       "    </tr>\n",
       "    <tr>\n",
       "      <th>2</th>\n",
       "      <td>21-January-2022</td>\n",
       "      <td>506.50</td>\n",
       "      <td>507.40</td>\n",
       "      <td>498.05</td>\n",
       "      <td>502.80</td>\n",
       "      <td>503.077040</td>\n",
       "      <td>747603</td>\n",
       "      <td>19457</td>\n",
       "      <td>376101904.0</td>\n",
       "      <td>257255.0</td>\n",
       "      <td>34.41</td>\n",
       "      <td>9.35</td>\n",
       "      <td>-3.70</td>\n",
       "    </tr>\n",
       "    <tr>\n",
       "      <th>3</th>\n",
       "      <td>20-January-2022</td>\n",
       "      <td>515.35</td>\n",
       "      <td>518.90</td>\n",
       "      <td>508.00</td>\n",
       "      <td>511.55</td>\n",
       "      <td>514.572635</td>\n",
       "      <td>823123</td>\n",
       "      <td>16434</td>\n",
       "      <td>423556571.0</td>\n",
       "      <td>293847.0</td>\n",
       "      <td>35.70</td>\n",
       "      <td>10.90</td>\n",
       "      <td>-3.80</td>\n",
       "    </tr>\n",
       "    <tr>\n",
       "      <th>4</th>\n",
       "      <td>19-January-2022</td>\n",
       "      <td>506.75</td>\n",
       "      <td>517.50</td>\n",
       "      <td>500.45</td>\n",
       "      <td>515.90</td>\n",
       "      <td>508.646935</td>\n",
       "      <td>702233</td>\n",
       "      <td>10629</td>\n",
       "      <td>357188663.0</td>\n",
       "      <td>145050.0</td>\n",
       "      <td>20.66</td>\n",
       "      <td>17.05</td>\n",
       "      <td>9.15</td>\n",
       "    </tr>\n",
       "  </tbody>\n",
       "</table>\n",
       "</div>"
      ],
      "text/plain": [
       "              Date  Open Price  High Price  Low Price  Close Price  \\\n",
       "0  25-January-2022      491.35      517.55     489.45       514.85   \n",
       "1  24-January-2022      502.10      506.65     488.05       494.10   \n",
       "2  21-January-2022      506.50      507.40     498.05       502.80   \n",
       "3  20-January-2022      515.35      518.90     508.00       511.55   \n",
       "4  19-January-2022      506.75      517.50     500.45       515.90   \n",
       "\n",
       "          WAP  No.of Shares  No. of Trades  Total Turnover (Rs.)  \\\n",
       "0  506.664435        921453          18415           466867464.0   \n",
       "1  497.524783       1283253          30605           638450170.0   \n",
       "2  503.077040        747603          19457           376101904.0   \n",
       "3  514.572635        823123          16434           423556571.0   \n",
       "4  508.646935        702233          10629           357188663.0   \n",
       "\n",
       "   Deliverable Quantity  % Deli. Qty to Traded Qty  Spread High-Low  \\\n",
       "0              181143.0                      19.66            28.10   \n",
       "1              457865.0                      35.68            18.60   \n",
       "2              257255.0                      34.41             9.35   \n",
       "3              293847.0                      35.70            10.90   \n",
       "4              145050.0                      20.66            17.05   \n",
       "\n",
       "   Spread Close-Open  \n",
       "0              23.50  \n",
       "1              -8.00  \n",
       "2              -3.70  \n",
       "3              -3.80  \n",
       "4               9.15  "
      ]
     },
     "execution_count": 2,
     "metadata": {},
     "output_type": "execute_result"
    }
   ],
   "source": [
    "df=pd.read_csv(\"stock_data.csv\")\n",
    "df.head()"
   ]
  },
  {
   "cell_type": "markdown",
   "metadata": {},
   "source": [
    "### Exploring the dataset"
   ]
  },
  {
   "cell_type": "code",
   "execution_count": 3,
   "metadata": {},
   "outputs": [
    {
     "name": "stdout",
     "output_type": "stream",
     "text": [
      "<class 'pandas.core.frame.DataFrame'>\n",
      "RangeIndex: 21012 entries, 0 to 21011\n",
      "Data columns (total 13 columns):\n",
      " #   Column                     Non-Null Count  Dtype  \n",
      "---  ------                     --------------  -----  \n",
      " 0   Date                       21012 non-null  object \n",
      " 1   Open Price                 21012 non-null  float64\n",
      " 2   High Price                 21012 non-null  float64\n",
      " 3   Low Price                  21012 non-null  float64\n",
      " 4   Close Price                21012 non-null  float64\n",
      " 5   WAP                        21012 non-null  float64\n",
      " 6   No.of Shares               21012 non-null  int64  \n",
      " 7   No. of Trades              21012 non-null  int64  \n",
      " 8   Total Turnover (Rs.)       21012 non-null  float64\n",
      " 9   Deliverable Quantity       21000 non-null  float64\n",
      " 10  % Deli. Qty to Traded Qty  21000 non-null  float64\n",
      " 11  Spread High-Low            21012 non-null  float64\n",
      " 12  Spread Close-Open          21012 non-null  float64\n",
      "dtypes: float64(10), int64(2), object(1)\n",
      "memory usage: 2.1+ MB\n"
     ]
    }
   ],
   "source": [
    "df.info()"
   ]
  },
  {
   "cell_type": "code",
   "execution_count": 4,
   "metadata": {},
   "outputs": [
    {
     "data": {
      "text/html": [
       "<div>\n",
       "<style scoped>\n",
       "    .dataframe tbody tr th:only-of-type {\n",
       "        vertical-align: middle;\n",
       "    }\n",
       "\n",
       "    .dataframe tbody tr th {\n",
       "        vertical-align: top;\n",
       "    }\n",
       "\n",
       "    .dataframe thead th {\n",
       "        text-align: right;\n",
       "    }\n",
       "</style>\n",
       "<table border=\"1\" class=\"dataframe\">\n",
       "  <thead>\n",
       "    <tr style=\"text-align: right;\">\n",
       "      <th></th>\n",
       "      <th>Open Price</th>\n",
       "      <th>High Price</th>\n",
       "      <th>Low Price</th>\n",
       "      <th>Close Price</th>\n",
       "      <th>WAP</th>\n",
       "      <th>No.of Shares</th>\n",
       "      <th>No. of Trades</th>\n",
       "      <th>Total Turnover (Rs.)</th>\n",
       "      <th>Deliverable Quantity</th>\n",
       "      <th>% Deli. Qty to Traded Qty</th>\n",
       "      <th>Spread High-Low</th>\n",
       "      <th>Spread Close-Open</th>\n",
       "    </tr>\n",
       "  </thead>\n",
       "  <tbody>\n",
       "    <tr>\n",
       "      <th>Open Price</th>\n",
       "      <td>1.000000</td>\n",
       "      <td>0.999680</td>\n",
       "      <td>0.999691</td>\n",
       "      <td>0.999396</td>\n",
       "      <td>0.999698</td>\n",
       "      <td>0.056368</td>\n",
       "      <td>0.379606</td>\n",
       "      <td>0.389765</td>\n",
       "      <td>0.017442</td>\n",
       "      <td>-0.446388</td>\n",
       "      <td>0.732815</td>\n",
       "      <td>-0.077431</td>\n",
       "    </tr>\n",
       "    <tr>\n",
       "      <th>High Price</th>\n",
       "      <td>0.999680</td>\n",
       "      <td>1.000000</td>\n",
       "      <td>0.999565</td>\n",
       "      <td>0.999760</td>\n",
       "      <td>0.999889</td>\n",
       "      <td>0.060178</td>\n",
       "      <td>0.384456</td>\n",
       "      <td>0.394512</td>\n",
       "      <td>0.019170</td>\n",
       "      <td>-0.448813</td>\n",
       "      <td>0.743180</td>\n",
       "      <td>-0.057781</td>\n",
       "    </tr>\n",
       "    <tr>\n",
       "      <th>Low Price</th>\n",
       "      <td>0.999691</td>\n",
       "      <td>0.999565</td>\n",
       "      <td>1.000000</td>\n",
       "      <td>0.999709</td>\n",
       "      <td>0.999845</td>\n",
       "      <td>0.055330</td>\n",
       "      <td>0.376720</td>\n",
       "      <td>0.389003</td>\n",
       "      <td>0.017520</td>\n",
       "      <td>-0.444337</td>\n",
       "      <td>0.723113</td>\n",
       "      <td>-0.059559</td>\n",
       "    </tr>\n",
       "    <tr>\n",
       "      <th>Close Price</th>\n",
       "      <td>0.999396</td>\n",
       "      <td>0.999760</td>\n",
       "      <td>0.999709</td>\n",
       "      <td>1.000000</td>\n",
       "      <td>0.999895</td>\n",
       "      <td>0.058720</td>\n",
       "      <td>0.381590</td>\n",
       "      <td>0.393146</td>\n",
       "      <td>0.018851</td>\n",
       "      <td>-0.447106</td>\n",
       "      <td>0.734279</td>\n",
       "      <td>-0.042739</td>\n",
       "    </tr>\n",
       "    <tr>\n",
       "      <th>WAP</th>\n",
       "      <td>0.999698</td>\n",
       "      <td>0.999889</td>\n",
       "      <td>0.999845</td>\n",
       "      <td>0.999895</td>\n",
       "      <td>1.000000</td>\n",
       "      <td>0.058145</td>\n",
       "      <td>0.381007</td>\n",
       "      <td>0.392208</td>\n",
       "      <td>0.018465</td>\n",
       "      <td>-0.446978</td>\n",
       "      <td>0.734220</td>\n",
       "      <td>-0.054434</td>\n",
       "    </tr>\n",
       "    <tr>\n",
       "      <th>No.of Shares</th>\n",
       "      <td>0.056368</td>\n",
       "      <td>0.060178</td>\n",
       "      <td>0.055330</td>\n",
       "      <td>0.058720</td>\n",
       "      <td>0.058145</td>\n",
       "      <td>1.000000</td>\n",
       "      <td>0.584028</td>\n",
       "      <td>0.716819</td>\n",
       "      <td>0.829266</td>\n",
       "      <td>-0.118381</td>\n",
       "      <td>0.154050</td>\n",
       "      <td>0.064089</td>\n",
       "    </tr>\n",
       "    <tr>\n",
       "      <th>No. of Trades</th>\n",
       "      <td>0.379606</td>\n",
       "      <td>0.384456</td>\n",
       "      <td>0.376720</td>\n",
       "      <td>0.381590</td>\n",
       "      <td>0.381007</td>\n",
       "      <td>0.584028</td>\n",
       "      <td>1.000000</td>\n",
       "      <td>0.733633</td>\n",
       "      <td>0.309888</td>\n",
       "      <td>-0.237080</td>\n",
       "      <td>0.457342</td>\n",
       "      <td>0.034129</td>\n",
       "    </tr>\n",
       "    <tr>\n",
       "      <th>Total Turnover (Rs.)</th>\n",
       "      <td>0.389765</td>\n",
       "      <td>0.394512</td>\n",
       "      <td>0.389003</td>\n",
       "      <td>0.393146</td>\n",
       "      <td>0.392208</td>\n",
       "      <td>0.716819</td>\n",
       "      <td>0.733633</td>\n",
       "      <td>1.000000</td>\n",
       "      <td>0.665111</td>\n",
       "      <td>-0.133771</td>\n",
       "      <td>0.414217</td>\n",
       "      <td>0.073564</td>\n",
       "    </tr>\n",
       "    <tr>\n",
       "      <th>Deliverable Quantity</th>\n",
       "      <td>0.017442</td>\n",
       "      <td>0.019170</td>\n",
       "      <td>0.017520</td>\n",
       "      <td>0.018851</td>\n",
       "      <td>0.018465</td>\n",
       "      <td>0.829266</td>\n",
       "      <td>0.309888</td>\n",
       "      <td>0.665111</td>\n",
       "      <td>1.000000</td>\n",
       "      <td>0.073211</td>\n",
       "      <td>0.051459</td>\n",
       "      <td>0.039390</td>\n",
       "    </tr>\n",
       "    <tr>\n",
       "      <th>% Deli. Qty to Traded Qty</th>\n",
       "      <td>-0.446388</td>\n",
       "      <td>-0.448813</td>\n",
       "      <td>-0.444337</td>\n",
       "      <td>-0.447106</td>\n",
       "      <td>-0.446978</td>\n",
       "      <td>-0.118381</td>\n",
       "      <td>-0.237080</td>\n",
       "      <td>-0.133771</td>\n",
       "      <td>0.073211</td>\n",
       "      <td>1.000000</td>\n",
       "      <td>-0.430653</td>\n",
       "      <td>0.006254</td>\n",
       "    </tr>\n",
       "    <tr>\n",
       "      <th>Spread High-Low</th>\n",
       "      <td>0.732815</td>\n",
       "      <td>0.743180</td>\n",
       "      <td>0.723113</td>\n",
       "      <td>0.734279</td>\n",
       "      <td>0.734220</td>\n",
       "      <td>0.154050</td>\n",
       "      <td>0.457342</td>\n",
       "      <td>0.414217</td>\n",
       "      <td>0.051459</td>\n",
       "      <td>-0.430653</td>\n",
       "      <td>1.000000</td>\n",
       "      <td>-0.002037</td>\n",
       "    </tr>\n",
       "    <tr>\n",
       "      <th>Spread Close-Open</th>\n",
       "      <td>-0.077431</td>\n",
       "      <td>-0.057781</td>\n",
       "      <td>-0.059559</td>\n",
       "      <td>-0.042739</td>\n",
       "      <td>-0.054434</td>\n",
       "      <td>0.064089</td>\n",
       "      <td>0.034129</td>\n",
       "      <td>0.073564</td>\n",
       "      <td>0.039390</td>\n",
       "      <td>0.006254</td>\n",
       "      <td>-0.002037</td>\n",
       "      <td>1.000000</td>\n",
       "    </tr>\n",
       "  </tbody>\n",
       "</table>\n",
       "</div>"
      ],
      "text/plain": [
       "                           Open Price  High Price  Low Price  Close Price  \\\n",
       "Open Price                   1.000000    0.999680   0.999691     0.999396   \n",
       "High Price                   0.999680    1.000000   0.999565     0.999760   \n",
       "Low Price                    0.999691    0.999565   1.000000     0.999709   \n",
       "Close Price                  0.999396    0.999760   0.999709     1.000000   \n",
       "WAP                          0.999698    0.999889   0.999845     0.999895   \n",
       "No.of Shares                 0.056368    0.060178   0.055330     0.058720   \n",
       "No. of Trades                0.379606    0.384456   0.376720     0.381590   \n",
       "Total Turnover (Rs.)         0.389765    0.394512   0.389003     0.393146   \n",
       "Deliverable Quantity         0.017442    0.019170   0.017520     0.018851   \n",
       "% Deli. Qty to Traded Qty   -0.446388   -0.448813  -0.444337    -0.447106   \n",
       "Spread High-Low              0.732815    0.743180   0.723113     0.734279   \n",
       "Spread Close-Open           -0.077431   -0.057781  -0.059559    -0.042739   \n",
       "\n",
       "                                WAP  No.of Shares  No. of Trades  \\\n",
       "Open Price                 0.999698      0.056368       0.379606   \n",
       "High Price                 0.999889      0.060178       0.384456   \n",
       "Low Price                  0.999845      0.055330       0.376720   \n",
       "Close Price                0.999895      0.058720       0.381590   \n",
       "WAP                        1.000000      0.058145       0.381007   \n",
       "No.of Shares               0.058145      1.000000       0.584028   \n",
       "No. of Trades              0.381007      0.584028       1.000000   \n",
       "Total Turnover (Rs.)       0.392208      0.716819       0.733633   \n",
       "Deliverable Quantity       0.018465      0.829266       0.309888   \n",
       "% Deli. Qty to Traded Qty -0.446978     -0.118381      -0.237080   \n",
       "Spread High-Low            0.734220      0.154050       0.457342   \n",
       "Spread Close-Open         -0.054434      0.064089       0.034129   \n",
       "\n",
       "                           Total Turnover (Rs.)  Deliverable Quantity  \\\n",
       "Open Price                             0.389765              0.017442   \n",
       "High Price                             0.394512              0.019170   \n",
       "Low Price                              0.389003              0.017520   \n",
       "Close Price                            0.393146              0.018851   \n",
       "WAP                                    0.392208              0.018465   \n",
       "No.of Shares                           0.716819              0.829266   \n",
       "No. of Trades                          0.733633              0.309888   \n",
       "Total Turnover (Rs.)                   1.000000              0.665111   \n",
       "Deliverable Quantity                   0.665111              1.000000   \n",
       "% Deli. Qty to Traded Qty             -0.133771              0.073211   \n",
       "Spread High-Low                        0.414217              0.051459   \n",
       "Spread Close-Open                      0.073564              0.039390   \n",
       "\n",
       "                           % Deli. Qty to Traded Qty  Spread High-Low  \\\n",
       "Open Price                                 -0.446388         0.732815   \n",
       "High Price                                 -0.448813         0.743180   \n",
       "Low Price                                  -0.444337         0.723113   \n",
       "Close Price                                -0.447106         0.734279   \n",
       "WAP                                        -0.446978         0.734220   \n",
       "No.of Shares                               -0.118381         0.154050   \n",
       "No. of Trades                              -0.237080         0.457342   \n",
       "Total Turnover (Rs.)                       -0.133771         0.414217   \n",
       "Deliverable Quantity                        0.073211         0.051459   \n",
       "% Deli. Qty to Traded Qty                   1.000000        -0.430653   \n",
       "Spread High-Low                            -0.430653         1.000000   \n",
       "Spread Close-Open                           0.006254        -0.002037   \n",
       "\n",
       "                           Spread Close-Open  \n",
       "Open Price                         -0.077431  \n",
       "High Price                         -0.057781  \n",
       "Low Price                          -0.059559  \n",
       "Close Price                        -0.042739  \n",
       "WAP                                -0.054434  \n",
       "No.of Shares                        0.064089  \n",
       "No. of Trades                       0.034129  \n",
       "Total Turnover (Rs.)                0.073564  \n",
       "Deliverable Quantity                0.039390  \n",
       "% Deli. Qty to Traded Qty           0.006254  \n",
       "Spread High-Low                    -0.002037  \n",
       "Spread Close-Open                   1.000000  "
      ]
     },
     "execution_count": 4,
     "metadata": {},
     "output_type": "execute_result"
    }
   ],
   "source": [
    "df.corr()"
   ]
  },
  {
   "cell_type": "markdown",
   "metadata": {},
   "source": [
    "We obtain the co-relation between different columns to select features which co-relate with close price. The features whose co-relation with close price is close to -1 or 1 is chosen to predict the close price."
   ]
  },
  {
   "cell_type": "code",
   "execution_count": 5,
   "metadata": {},
   "outputs": [
    {
     "data": {
      "text/plain": [
       "<AxesSubplot:>"
      ]
     },
     "execution_count": 5,
     "metadata": {},
     "output_type": "execute_result"
    },
    {
     "data": {
      "image/png": "[encoded data removed]",
      "text/plain": [
       "<Figure size 432x288 with 1 Axes>"
      ]
     },
     "metadata": {
      "needs_background": "light"
     },
     "output_type": "display_data"
    }
   ],
   "source": [
    "sns.heatmap(df.isnull(),yticklabels=False,cbar = False,cmap='viridis')"
   ]
  },
  {
   "cell_type": "code",
   "execution_count": 6,
   "metadata": {},
   "outputs": [
    {
     "data": {
      "text/plain": [
       "<AxesSubplot:>"
      ]
     },
     "execution_count": 6,
     "metadata": {},
     "output_type": "execute_result"
    },
    {
     "data": {
      "image/png": "[encoded data removed]",
      "text/plain": [
       "<Figure size 432x288 with 2 Axes>"
      ]
     },
     "metadata": {
      "needs_background": "light"
     },
     "output_type": "display_data"
    }
   ],
   "source": [
    "sns.heatmap(df.corr())  #Heatmap is used to visualise the data"
   ]
  },
  {
   "cell_type": "markdown",
   "metadata": {},
   "source": [
    "In this case, we notice that Open Price , High Price , Low Price , WAP , Spread High-Low columns co-relate well with Close price hence we choose these columns and drop the other columns."
   ]
  },
  {
   "cell_type": "code",
   "execution_count": 7,
   "metadata": {},
   "outputs": [],
   "source": [
    "df.drop(['Date', 'No.of Shares','No. of Trades','Total Turnover (Rs.)','Deliverable Quantity','% Deli. Qty to Traded Qty','Spread Close-Open'],inplace=True, axis = 1)"
   ]
  },
  {
   "cell_type": "markdown",
   "metadata": {},
   "source": [
    "We use the lambda method of normalization to ensure that all the data is in between the same range of values, this is important so that the model gives equal weightage to all the inputs."
   ]
  },
  {
   "cell_type": "code",
   "execution_count": 8,
   "metadata": {},
   "outputs": [],
   "source": [
    "df=df.apply(lambda x:(x-x.min(axis=0))/(x.max(axis=0)- x.min(axis=0)))"
   ]
  },
  {
   "cell_type": "code",
   "execution_count": 9,
   "metadata": {},
   "outputs": [],
   "source": [
    "X=df[['Open Price','High Price','Low Price','WAP','Spread High-Low']] \n",
    "Y=df[['Close Price']]\n"
   ]
  },
  {
   "cell_type": "code",
   "execution_count": 10,
   "metadata": {},
   "outputs": [
    {
     "data": {
      "text/html": [
       "<div>\n",
       "<style scoped>\n",
       "    .dataframe tbody tr th:only-of-type {\n",
       "        vertical-align: middle;\n",
       "    }\n",
       "\n",
       "    .dataframe tbody tr th {\n",
       "        vertical-align: top;\n",
       "    }\n",
       "\n",
       "    .dataframe thead th {\n",
       "        text-align: right;\n",
       "    }\n",
       "</style>\n",
       "<table border=\"1\" class=\"dataframe\">\n",
       "  <thead>\n",
       "    <tr style=\"text-align: right;\">\n",
       "      <th></th>\n",
       "      <th>Open Price</th>\n",
       "      <th>High Price</th>\n",
       "      <th>Low Price</th>\n",
       "      <th>Close Price</th>\n",
       "      <th>WAP</th>\n",
       "      <th>Spread High-Low</th>\n",
       "    </tr>\n",
       "  </thead>\n",
       "  <tbody>\n",
       "    <tr>\n",
       "      <th>0</th>\n",
       "      <td>0.436515</td>\n",
       "      <td>0.451389</td>\n",
       "      <td>0.445079</td>\n",
       "      <td>0.453215</td>\n",
       "      <td>0.447106</td>\n",
       "      <td>0.301826</td>\n",
       "    </tr>\n",
       "    <tr>\n",
       "      <th>1</th>\n",
       "      <td>0.446195</td>\n",
       "      <td>0.441753</td>\n",
       "      <td>0.443790</td>\n",
       "      <td>0.434708</td>\n",
       "      <td>0.438931</td>\n",
       "      <td>0.199785</td>\n",
       "    </tr>\n",
       "    <tr>\n",
       "      <th>2</th>\n",
       "      <td>0.450158</td>\n",
       "      <td>0.442416</td>\n",
       "      <td>0.452999</td>\n",
       "      <td>0.442467</td>\n",
       "      <td>0.443897</td>\n",
       "      <td>0.100430</td>\n",
       "    </tr>\n",
       "    <tr>\n",
       "      <th>3</th>\n",
       "      <td>0.458127</td>\n",
       "      <td>0.452583</td>\n",
       "      <td>0.462163</td>\n",
       "      <td>0.450272</td>\n",
       "      <td>0.454179</td>\n",
       "      <td>0.117078</td>\n",
       "    </tr>\n",
       "    <tr>\n",
       "      <th>4</th>\n",
       "      <td>0.450383</td>\n",
       "      <td>0.451345</td>\n",
       "      <td>0.455209</td>\n",
       "      <td>0.454151</td>\n",
       "      <td>0.448879</td>\n",
       "      <td>0.183136</td>\n",
       "    </tr>\n",
       "    <tr>\n",
       "      <th>...</th>\n",
       "      <td>...</td>\n",
       "      <td>...</td>\n",
       "      <td>...</td>\n",
       "      <td>...</td>\n",
       "      <td>...</td>\n",
       "      <td>...</td>\n",
       "    </tr>\n",
       "    <tr>\n",
       "      <th>21007</th>\n",
       "      <td>0.048987</td>\n",
       "      <td>0.048120</td>\n",
       "      <td>0.049713</td>\n",
       "      <td>0.048288</td>\n",
       "      <td>0.048327</td>\n",
       "      <td>0.013426</td>\n",
       "    </tr>\n",
       "    <tr>\n",
       "      <th>21008</th>\n",
       "      <td>0.050698</td>\n",
       "      <td>0.049623</td>\n",
       "      <td>0.050082</td>\n",
       "      <td>0.048288</td>\n",
       "      <td>0.048946</td>\n",
       "      <td>0.027390</td>\n",
       "    </tr>\n",
       "    <tr>\n",
       "      <th>21009</th>\n",
       "      <td>0.051598</td>\n",
       "      <td>0.050772</td>\n",
       "      <td>0.051601</td>\n",
       "      <td>0.050116</td>\n",
       "      <td>0.050788</td>\n",
       "      <td>0.023631</td>\n",
       "    </tr>\n",
       "    <tr>\n",
       "      <th>21010</th>\n",
       "      <td>0.051598</td>\n",
       "      <td>0.051258</td>\n",
       "      <td>0.052798</td>\n",
       "      <td>0.050964</td>\n",
       "      <td>0.051504</td>\n",
       "      <td>0.015575</td>\n",
       "    </tr>\n",
       "    <tr>\n",
       "      <th>21011</th>\n",
       "      <td>0.050473</td>\n",
       "      <td>0.050507</td>\n",
       "      <td>0.052016</td>\n",
       "      <td>0.050696</td>\n",
       "      <td>0.050894</td>\n",
       "      <td>0.015575</td>\n",
       "    </tr>\n",
       "  </tbody>\n",
       "</table>\n",
       "<p>21012 rows × 6 columns</p>\n",
       "</div>"
      ],
      "text/plain": [
       "       Open Price  High Price  Low Price  Close Price       WAP  \\\n",
       "0        0.436515    0.451389   0.445079     0.453215  0.447106   \n",
       "1        0.446195    0.441753   0.443790     0.434708  0.438931   \n",
       "2        0.450158    0.442416   0.452999     0.442467  0.443897   \n",
       "3        0.458127    0.452583   0.462163     0.450272  0.454179   \n",
       "4        0.450383    0.451345   0.455209     0.454151  0.448879   \n",
       "...           ...         ...        ...          ...       ...   \n",
       "21007    0.048987    0.048120   0.049713     0.048288  0.048327   \n",
       "21008    0.050698    0.049623   0.050082     0.048288  0.048946   \n",
       "21009    0.051598    0.050772   0.051601     0.050116  0.050788   \n",
       "21010    0.051598    0.051258   0.052798     0.050964  0.051504   \n",
       "21011    0.050473    0.050507   0.052016     0.050696  0.050894   \n",
       "\n",
       "       Spread High-Low  \n",
       "0             0.301826  \n",
       "1             0.199785  \n",
       "2             0.100430  \n",
       "3             0.117078  \n",
       "4             0.183136  \n",
       "...                ...  \n",
       "21007         0.013426  \n",
       "21008         0.027390  \n",
       "21009         0.023631  \n",
       "21010         0.015575  \n",
       "21011         0.015575  \n",
       "\n",
       "[21012 rows x 6 columns]"
      ]
     },
     "execution_count": 10,
     "metadata": {},
     "output_type": "execute_result"
    }
   ],
   "source": [
    "df"
   ]
  },
  {
   "cell_type": "markdown",
   "metadata": {},
   "source": [
    "### Implementation of the Model"
   ]
  },
  {
   "cell_type": "markdown",
   "metadata": {},
   "source": [
    "Now, we implement the Ridge Regression model by importing the appropriate library, splitting the dataset into testing and training. We fit the model using the training set."
   ]
  },
  {
   "cell_type": "code",
   "execution_count": 11,
   "metadata": {},
   "outputs": [
    {
     "data": {
      "text/plain": [
       "array([[0.21442079, 0.24949844, 0.25916749, 0.2612416 , 0.0086287 ]])"
      ]
     },
     "execution_count": 11,
     "metadata": {},
     "output_type": "execute_result"
    }
   ],
   "source": [
    "from sklearn.linear_model import Ridge\n",
    "ridge=Ridge()  # Initialising the model\n",
    "from sklearn.model_selection import train_test_split\n",
    "X_train, X_test, Y_train, Y_test = train_test_split(X, Y, test_size=0.3, random_state=101) #Test_size = 0.3 says that the testset is 30% of the data and 70% of the data goes for training\n",
    "ridge.fit(X_train,Y_train) # Fit function is used to train the model\n",
    "ridge.coef_         # Printing the coefficients of the regression equation"
   ]
  },
  {
   "cell_type": "markdown",
   "metadata": {},
   "source": [
    "Now, we provide the input from the test dataset to the model and ask it to make the predictions"
   ]
  },
  {
   "cell_type": "code",
   "execution_count": 12,
   "metadata": {},
   "outputs": [
    {
     "data": {
      "text/plain": [
       "(6304, 1)"
      ]
     },
     "execution_count": 12,
     "metadata": {},
     "output_type": "execute_result"
    }
   ],
   "source": [
    "Y_pred=ridge.predict(X_test)\n",
    "Y_pred.shape"
   ]
  },
  {
   "cell_type": "code",
   "execution_count": 13,
   "metadata": {},
   "outputs": [
    {
     "data": {
      "text/plain": [
       "array([-2.63509418e-05])"
      ]
     },
     "execution_count": 13,
     "metadata": {},
     "output_type": "execute_result"
    }
   ],
   "source": [
    "ridge.intercept_        # Gives the intercept value in the regression equation"
   ]
  },
  {
   "cell_type": "markdown",
   "metadata": {},
   "source": [
    "### Finding Performance metrics"
   ]
  },
  {
   "cell_type": "markdown",
   "metadata": {},
   "source": [
    "Now, we calculate the mean absolute error, mean squared error and the root mean square error between the predictions and the actual values from the testing set."
   ]
  },
  {
   "cell_type": "code",
   "execution_count": 15,
   "metadata": {},
   "outputs": [
    {
     "name": "stdout",
     "output_type": "stream",
     "text": [
      "MAE:  0.001\n",
      "MSE:  0.0\n",
      "RMSE:  0.0004\n"
     ]
    }
   ],
   "source": [
    "from sklearn import metrics\n",
    "print('MAE: ',round(metrics.mean_absolute_error(Y_test,Y_pred),4))\n",
    "print('MSE: ',round(metrics.mean_squared_error(Y_test,Y_pred),4))\n",
    "print('RMSE: ',round(metrics.median_absolute_error(Y_test,Y_pred),4))"
   ]
  },
  {
   "cell_type": "markdown",
   "metadata": {},
   "source": [
    "We get really small values, hence, error is very minimal in the predictions"
   ]
  },
  {
   "cell_type": "code",
   "execution_count": 16,
   "metadata": {},
   "outputs": [
    {
     "data": {
      "text/html": [
       "<table class=\"simpletable\">\n",
       "<caption>OLS Regression Results</caption>\n",
       "<tr>\n",
       "  <th>Dep. Variable:</th>       <td>Close Price</td>   <th>  R-squared (uncentered):</th>       <td>   1.000</td> \n",
       "</tr>\n",
       "<tr>\n",
       "  <th>Model:</th>                   <td>OLS</td>       <th>  Adj. R-squared (uncentered):</th>  <td>   1.000</td> \n",
       "</tr>\n",
       "<tr>\n",
       "  <th>Method:</th>             <td>Least Squares</td>  <th>  F-statistic:       </th>           <td>3.234e+07</td>\n",
       "</tr>\n",
       "<tr>\n",
       "  <th>Date:</th>             <td>Mon, 02 May 2022</td> <th>  Prob (F-statistic):</th>            <td>  0.00</td>  \n",
       "</tr>\n",
       "<tr>\n",
       "  <th>Time:</th>                 <td>22:31:05</td>     <th>  Log-Likelihood:    </th>           <td>  30814.</td> \n",
       "</tr>\n",
       "<tr>\n",
       "  <th>No. Observations:</th>      <td>  6304</td>      <th>  AIC:               </th>          <td>-6.163e+04</td>\n",
       "</tr>\n",
       "<tr>\n",
       "  <th>Df Residuals:</th>          <td>  6303</td>      <th>  BIC:               </th>          <td>-6.162e+04</td>\n",
       "</tr>\n",
       "<tr>\n",
       "  <th>Df Model:</th>              <td>     1</td>      <th>                     </th>               <td> </td>    \n",
       "</tr>\n",
       "<tr>\n",
       "  <th>Covariance Type:</th>      <td>nonrobust</td>    <th>                     </th>               <td> </td>    \n",
       "</tr>\n",
       "</table>\n",
       "<table class=\"simpletable\">\n",
       "<tr>\n",
       "   <td></td>     <th>coef</th>     <th>std err</th>      <th>t</th>      <th>P>|t|</th>  <th>[0.025</th>    <th>0.975]</th>  \n",
       "</tr>\n",
       "<tr>\n",
       "  <th>x1</th> <td>    1.0016</td> <td>    0.000</td> <td> 5686.861</td> <td> 0.000</td> <td>    1.001</td> <td>    1.002</td>\n",
       "</tr>\n",
       "</table>\n",
       "<table class=\"simpletable\">\n",
       "<tr>\n",
       "  <th>Omnibus:</th>       <td>1483.000</td> <th>  Durbin-Watson:     </th> <td>   1.976</td> \n",
       "</tr>\n",
       "<tr>\n",
       "  <th>Prob(Omnibus):</th>  <td> 0.000</td>  <th>  Jarque-Bera (JB):  </th> <td>79161.604</td>\n",
       "</tr>\n",
       "<tr>\n",
       "  <th>Skew:</th>           <td> 0.159</td>  <th>  Prob(JB):          </th> <td>    0.00</td> \n",
       "</tr>\n",
       "<tr>\n",
       "  <th>Kurtosis:</th>       <td>20.357</td>  <th>  Cond. No.          </th> <td>    1.00</td> \n",
       "</tr>\n",
       "</table><br/><br/>Notes:<br/>[1] R² is computed without centering (uncentered) since the model does not contain a constant.<br/>[2] Standard Errors assume that the covariance matrix of the errors is correctly specified."
      ],
      "text/plain": [
       "<class 'statsmodels.iolib.summary.Summary'>\n",
       "\"\"\"\n",
       "                                 OLS Regression Results                                \n",
       "=======================================================================================\n",
       "Dep. Variable:            Close Price   R-squared (uncentered):                   1.000\n",
       "Model:                            OLS   Adj. R-squared (uncentered):              1.000\n",
       "Method:                 Least Squares   F-statistic:                          3.234e+07\n",
       "Date:                Mon, 02 May 2022   Prob (F-statistic):                        0.00\n",
       "Time:                        22:31:05   Log-Likelihood:                          30814.\n",
       "No. Observations:                6304   AIC:                                 -6.163e+04\n",
       "Df Residuals:                    6303   BIC:                                 -6.162e+04\n",
       "Df Model:                           1                                                  \n",
       "Covariance Type:            nonrobust                                                  \n",
       "==============================================================================\n",
       "                 coef    std err          t      P>|t|      [0.025      0.975]\n",
       "------------------------------------------------------------------------------\n",
       "x1             1.0016      0.000   5686.861      0.000       1.001       1.002\n",
       "==============================================================================\n",
       "Omnibus:                     1483.000   Durbin-Watson:                   1.976\n",
       "Prob(Omnibus):                  0.000   Jarque-Bera (JB):            79161.604\n",
       "Skew:                           0.159   Prob(JB):                         0.00\n",
       "Kurtosis:                      20.357   Cond. No.                         1.00\n",
       "==============================================================================\n",
       "\n",
       "Notes:\n",
       "[1] R² is computed without centering (uncentered) since the model does not contain a constant.\n",
       "[2] Standard Errors assume that the covariance matrix of the errors is correctly specified.\n",
       "\"\"\""
      ]
     },
     "execution_count": 16,
     "metadata": {},
     "output_type": "execute_result"
    }
   ],
   "source": [
    "from statsmodels.api import OLS\n",
    "OLS(Y_test,Y_pred).fit().summary()"
   ]
  },
  {
   "cell_type": "code",
   "execution_count": 21,
   "metadata": {},
   "outputs": [
    {
     "name": "stdout",
     "output_type": "stream",
     "text": [
      "0.9996093419344024\n"
     ]
    }
   ],
   "source": [
    "from sklearn.metrics import r2_score\n",
    "print(r2_score(Y_test,Y_pred))"
   ]
  },
  {
   "cell_type": "markdown",
   "metadata": {},
   "source": [
    "Let us visualise the predictions v/s actual values,"
   ]
  },
  {
   "cell_type": "code",
   "execution_count": 17,
   "metadata": {},
   "outputs": [
    {
     "data": {
      "text/plain": [
       "[<matplotlib.lines.Line2D at 0x25e7db2cee0>]"
      ]
     },
     "execution_count": 17,
     "metadata": {},
     "output_type": "execute_result"
    },
    {
     "data": {
      "image/png": "[encoded data removed]",
      "text/plain": [
       "<Figure size 432x288 with 1 Axes>"
      ]
     },
     "metadata": {
      "needs_background": "light"
     },
     "output_type": "display_data"
    }
   ],
   "source": [
    "plt.plot(Y_test,Y_pred,color=\"green\")"
   ]
  },
  {
   "cell_type": "markdown",
   "metadata": {},
   "source": [
    "We notice that the line for the predictions and the line for the actual values almost lie on each other, hence the model's predictions are highly accurate."
   ]
  }
 ],
 "metadata": {
  "interpreter": {
   "hash": "7570a0e4391b9dcb71977fd64c706c14a94b799bd74ad214d9b29ad66e2a1f15"
  },
  "kernelspec": {
   "display_name": "Python 3.9.7 ('base')",
   "language": "python",
   "name": "python3"
  },
  "language_info": {
   "codemirror_mode": {
    "name": "ipython",
    "version": 3
   },
   "file_extension": ".py",
   "mimetype": "text/x-python",
   "name": "python",
   "nbconvert_exporter": "python",
   "pygments_lexer": "ipython3",
   "version": "3.9.7"
  },
  "orig_nbformat": 4
 },
 "nbformat": 4,
 "nbformat_minor": 2
}
